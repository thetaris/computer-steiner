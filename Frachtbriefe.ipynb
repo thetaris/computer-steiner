{
 "cells": [
  {
   "cell_type": "code",
   "execution_count": 1,
   "id": "79502675-a4dd-40dc-9c1b-d9f687a953e9",
   "metadata": {},
   "outputs": [],
   "source": [
    "import os\n",
    "import subprocess\n",
    "import base64\n",
    "import json\n",
    "import xml.etree.ElementTree as ET\n",
    "import datetime\n",
    "import requests\n",
    "import re"
   ]
  },
  {
   "cell_type": "markdown",
   "id": "33b6f277-f69a-440f-8610-3cf585870144",
   "metadata": {},
   "source": [
    "# Generate Prompt"
   ]
  },
  {
   "cell_type": "code",
   "execution_count": 36,
   "id": "3474ad9d-5155-4559-b220-57b218c080e3",
   "metadata": {},
   "outputs": [],
   "source": [
    "def flatten_dict(d, parent_key=\"\"):\n",
    "    \"\"\"\n",
    "    Recursively flattens a nested dict into { \"full.path\": \"string\", ... }.\n",
    "    If the value is a dict, recurse; if it's a string, store it.\n",
    "    \"\"\"\n",
    "    flattened = {}\n",
    "    for key, value in d.items():\n",
    "        if parent_key:\n",
    "            full_key = f\"{parent_key}.{key}\"\n",
    "        else:\n",
    "            full_key = key\n",
    "\n",
    "        if isinstance(value, dict):\n",
    "            flattened.update(flatten_dict(value, full_key))\n",
    "        elif isinstance(value, str):\n",
    "            flattened[full_key] = value\n",
    "        else:\n",
    "            # If list/number/None => skip or handle as needed\n",
    "            pass\n",
    "    return flattened"
   ]
  },
  {
   "cell_type": "code",
   "execution_count": 37,
   "id": "44023bc4-0c16-40f2-991d-efdd1b74ac44",
   "metadata": {},
   "outputs": [
    {
     "data": {
      "text/plain": [
       "{'Verarbeitungskennzeichen': \"Suche nach dem Verarbeitungskennzeichen, das meistens mit einem Buchstaben angegeben ist, z.B. 'N'.\",\n",
       " 'PosNrAuftragCSTransport': \"Suche nach einer Nummer, die als Positionsnummer für den CS Transport bezeichnet ist, z.B. '2301231'.\",\n",
       " 'Auftragsart': \"Finde die Art des Auftrags, häufig durch eine Abkürzung wie 'KL' gekennzeichnet.\",\n",
       " 'ReferenznummerAuftrag': \"Suche nach der Referenznummer des Auftrags, die oft durch 'Nr.' gefolgt von einer Nummer/Kombination angegeben wird, z.B. '32231423 / 21.5640'.\",\n",
       " 'RelationAuftrag': 'Finde den Teil des Dokuments, der eine spezifische Relation für den Auftrag angibt. Diese Information kann möglicherweise fehlen.',\n",
       " 'Auftraggeber': \"Suche nach der E-Mail-Adresse des Auftraggebers, oft als Kontaktinformation angegeben, z.B. 'f.baumann@christof-group.com'.\",\n",
       " 'KontaktAuftraggeber': \"Finde den Namen oder die Bezeichnung der kontaktierenden Person für den Auftrag, z.B. 'User 4 (TR)'.\",\n",
       " 'Rechnungsempfaenger': \"Suche nach der E-Mail-Adresse des Rechnungsempfängers, die normalerweise am Dokument angegeben ist, z.B. 'f.baumann@christof-group.com'.\",\n",
       " 'Frankatur': \"Finde die Zahlungsmethode oder Kostenregelung, die gelegentlich als 'Frankatur' gekennzeichnet ist. Diese Information kann fehlen.\",\n",
       " 'Projekt': 'Suche nach einem Projektnamen oder einer Projektnummer. Diese Information ist oft optional.',\n",
       " 'Info': \"Finde Anmerkungen oder Informationen, die im Zusammenhang mit dem Auftrag relevant sind und als 'Info' oder 'Information' bezeichnet werden können.\",\n",
       " 'BeladedatumAb': \"Suche nach dem frühesten Datum, an dem die Beladung beginnt, häufig als Datum mit Uhrzeit, z.B. '15.05.2023 00:00:00'.\",\n",
       " 'Mandant': 'Finde den Mandanten oder die Firma, die den Auftrag erteilt hat. Dieser Eintrag kann optional sein.',\n",
       " 'AbteilungAuftrag': \"Suche nach der Abteilung, die den Auftrag bearbeitet, z.B. 'TR'.\",\n",
       " 'SachbearbeiterAuftrag': \"Finde den Namen des Sachbearbeiters für den Auftrag, oftmals durch einen Benutzernamen angegeben, z.B. 'USER4'.\",\n",
       " 'Station.StationsreihungTour': \"Suche nach der Reihenfolge der Stationen auf der Tour, z.B. '1'.\",\n",
       " 'Station.BeladeStationsreihungTour': \"Finde die spezifische Reihenfolge für die Beladung bei der Tour, z.B. '1'.\",\n",
       " 'Station.ZugehoerigeUP': \"Suche nach der zugehörigen UP-Nummer, z.B. '127061'.\",\n",
       " 'Station.EntladeDispodatum': 'An welchem Datum ist die Entladung geplant?',\n",
       " 'Station.EntladeStationsreihungTour': 'Welche Reihenfolge hat diese Station in der Tour?',\n",
       " 'Station.EntladedatumAb': 'Ab welchem Datum kann die Entladung beginnen?',\n",
       " 'Station.EntladedatumFIX': 'Welches ist das feste Entladedatum?',\n",
       " 'Station.EntladeortLand': 'In welchem Land befindet sich der Entladeort?',\n",
       " 'Station.EntladeortName': 'Wie lautet der Name des Entladeortes?',\n",
       " 'Station.EntladeortOrt': 'In welcher Stadt oder welchem Ort befindet sich die Entladestation?',\n",
       " 'Station.EntladeortPLZ': 'Wie lautet die Postleitzahl des Entladeortes?',\n",
       " 'Station.EntladeortStrasse': 'In welcher Straße befindet sich der Entladeort?',\n",
       " 'Station.BeladedatumAb': \"Suche nach dem Beginn des Beladedatums für diese Station, z.B. '16.05.2023'.\",\n",
       " 'Station.BeladezeitpunktAb': 'Finde den spezifischen Beginn der Beladezeit. Diese Information kann fehlen.',\n",
       " 'Station.BeladedatumBis': 'Suche nach dem Enddatum der Beladung. Diese Information kann fehlen.',\n",
       " 'Station.BeladezeitpunktBis': 'Finde den spezifischen Endzeitpunkt der Beladung. Diese Information kann fehlen.',\n",
       " 'Station.BeladedatumFIX': \"Finde die Markierung für fixes Beladedatum, oft als '0' oder '1' angegeben.\",\n",
       " 'Station.BeladeDispodatum': \"Suche nach dem Datum der Disposition für die Beladung, z.B. '16.05.2023 00:00:00'.\",\n",
       " 'Station.BeladeDispozeit': 'Finde die spezifische Zeit der Disposition für die Beladung. Diese Information kann fehlen.',\n",
       " 'Station.BeladeAufliegerInfo': 'Suche nach Informationen zu Aufliegern oder Anhängern, die für die Beladung verwendet werden. Diese Information kann fehlen.',\n",
       " 'Station.BeladeortName': \"Suche nach dem Namen des Beladeorts, z.B. 'Höfer&Karpf'.\",\n",
       " 'Station.BeladesortStrasse': \"Finde die Straßenadresse des Beladeorts, z.B. 'Mitterdorfer Straße 7a'.\",\n",
       " 'Station.BeladeortLand': 'Suche nach dem Land, in dem der Beladeort liegt. Diese Information kann optional sein.',\n",
       " 'Station.BeladeortPLZ': \"Finde die Postleitzahl des Beladeorts, z.B. '8572'.\",\n",
       " 'Station.BeladeortOrt': \"Suche nach der Stadt oder dem Ort des Beladeorts, z.B. 'Bärnbach'.\",\n",
       " 'Station.KontaktBeladeort': 'Finde Kontaktinformationen für den Beladeort. Diese Information kann fehlen.',\n",
       " 'Station.LadegutAnzahl': 'Finde die Anzahl der Artikel oder Güter, die geladen werden. Diese Information kann fehlen.',\n",
       " 'Station.LadegutEinheit': 'Suche nach der Einheit, in der die Ladegutmenge gemessen wird. Diese Information kann fehlen.',\n",
       " 'Station.LadegutBeschreibung': 'Finde die Beschreibung des Ladeguts. Diese Information kann fehlen.',\n",
       " 'Station.AusstattungFahrzeugBeladung': 'Suche nach speziellen Anforderungen oder Ausstattung am Fahrzeug für die Beladung. Diese Information kann fehlen.',\n",
       " 'Station.BemerkungBeladeort': 'Finde zusätzliche Bemerkungen zum Beladeort. Diese Information kann fehlen.',\n",
       " 'Station.LademitteltauschBeladung': \"Suche nach einer Angabe, ob ein Lademitteltausch bei der Beladung vorgesehen ist, ofte als '0' oder '1' angegeben.\",\n",
       " 'Station.BemerkungLademitteltauschBeladung': 'Finde Bemerkungen zu einem möglichen Lademitteltausch bei der Beladung. Diese Information kann fehlen.',\n",
       " 'Station.LadeNr': 'Suche nach der Lade- oder Auftragsnummer. Diese Information kann fehlen.',\n",
       " 'Station.ADR': 'Finde Hinweise auf ADR-Vorschriften oder gefahrgutrelevante Informationen. Diese Information kann fehlen.',\n",
       " 'Station.Palettenanzahl': 'Suche nach der Anzahl der Paletten, die geladen werden. Diese Information kann fehlen.',\n",
       " 'Station.Lademeter': 'Finde die Anzahl der Lademeter, die benötigt werden. Diese Information kann fehlen.',\n",
       " 'Station.Ladungsvolumen': 'Suche nach dem Volumen der Ladung. Diese Information kann fehlen.',\n",
       " 'Station.Verrechnungsgewicht': 'Finde das Abrechnungsgewicht der Ladung. Diese Information kann fehlen.',\n",
       " 'Station.Ladungsgewicht': 'Suche nach dem Gewicht der Ladung. Diese Information kann fehlen.',\n",
       " 'Station.LadegutDetail.LadegutDetailAnzahl': \"Suche nach der detaillierten Anzahl der Ladegüter, z.B. '2'.\",\n",
       " 'Station.LadegutDetail.LadegutDetailEinheit': \"Finde die spezifische Einheit für die Ladegutdetails, z.B. 'EUR'.\",\n",
       " 'Station.LadegutDetail.LadegutDetailBeschreibung': 'Suche nach einer detaillierten Beschreibung der Ladegüter. Diese Information kann fehlen.',\n",
       " 'Station.LadegutDetail.LadegutDetailLadeNr': 'Finde die spezifische Lader- oder Auftragnummer für die Ladegüter. Diese Information kann fehlen.',\n",
       " 'Station.LadegutDetail.LadegutDetailPalettenanzahl': \"Suche nach der detaillierten Anzahl der Paletten, z.B. '2'.\",\n",
       " 'Station.LadegutDetail.LadegutDetailLademeter': 'Finde die detaillierte Anzahl der Lademeter. Diese Information kann fehlen.',\n",
       " 'Station.LadegutDetail.LadegutDetailLaenge': 'Suche nach der detaillierten Länge der Ladegüter. Diese Information kann fehlen.',\n",
       " 'Station.LadegutDetail.LadegutDetailBreite': 'Finde die detaillierte Breite der Ladegüter. Diese Information kann fehlen.',\n",
       " 'Station.LadegutDetail.LadegutDetailHoehe': 'Suche nach der detaillierten Höhe der Ladegüter. Diese Information kann fehlen.',\n",
       " 'Station.LadegutDetail.LadegutDetailVolumen': 'Finde das detaillierte Volumen der Ladegüter. Diese Information kann fehlen.',\n",
       " 'Station.LadegutDetail.LadegutDetailLadungsgewicht': \"Suche nach dem detaillierten Gewicht der Ladegüter, z.B. '980'.\",\n",
       " 'Station.LadegutDetail.LadegutDetailVerrechnungsgewicht': 'Finde das detaillierte Verrechnungsgewicht der Ladegüter. Diese Information kann fehlen.',\n",
       " 'Station.LadegutDetail.LadegutDetailTemperatur': 'Suche nach der benötigten Temperatur für die Ladegüter. Diese Information kann fehlen.',\n",
       " 'Station.LadegutDetail.LadegutDetailWarenwert': 'Finde den detaillierten Warenwert der Ladegüter. Diese Information kann fehlen.',\n",
       " 'Station.LadegutDetail.LadegutDetailADR': 'Suche nach detaillierten ADR-Informationen der Ladegüter. Diese Information kann fehlen.',\n",
       " 'Tour.Fahrzeug': 'Finde die Informationen über das Fahrzeug, das die Tour ausführt. Diese Information kann fehlen.',\n",
       " 'Tour.Auflieger': 'Suche nach Informationen über den Auflieger oder Anhänger. Diese Information kann fehlen.',\n",
       " 'Tour.FahrzeugKennzeichen': 'Finde das Kennzeichen des Fahrzeugs. Diese Information kann fehlen.',\n",
       " 'Tour.AufliegerKennzeichen': 'Suche nach dem Kennzeichen des Aufliegers. Diese Information kann fehlen.',\n",
       " 'Tour.Fahrer1': 'Finde den Namen oder die ID des ersten Fahrers. Diese Information kann fehlen.',\n",
       " 'Tour.Fahrer2': 'Suche nach dem Namen oder der ID des zweiten Fahrers. Diese Information kann fehlen.',\n",
       " 'Tour.BezeichnungTour': \"Finde die Bezeichnung der Tour, oft in Klammern angegeben, z.B. '(1B/1E)'.\",\n",
       " 'Tour.ReferenznummerTour': 'Suche nach der spezifischen Referenznummer für die Tour. Diese Information kann fehlen.',\n",
       " 'Tour.Mandant': \"Finde die spezifische Mandantennummer, z.B. '01A'.\",\n",
       " 'Tour.AbteilungTour': \"Suche nach der Abteilung, die die Tour durchführt, z.B. 'TR'.\",\n",
       " 'Tour.SachbearbeiterTour': \"Finde den Sachbearbeiter für die Tour, z.B. 'USER4'.\",\n",
       " 'Tour.RelationTour': 'Suche nach spezifischen Relationen oder Verbindungen für die Tour. Diese Information kann fehlen.',\n",
       " 'VerrechnungAuftrag.VerrechnungAuftragMenge': \"Finde die Anzahl der abgerechneten Einheiten, z.B. '1'.\",\n",
       " 'VerrechnungAuftrag.VerrechnungAuftragBezeichnung1': \"Suche nach der Bezeichnung der Abrechnungseinheit, z.B. 'Frachtpauschale'.\",\n",
       " 'VerrechnungAuftrag.VerrechnungAuftragArtikel': \"Finde das spezifische Abrechnungsartikelkürzel, z.B. 'FP'.\",\n",
       " 'VerrechnungAuftrag.VerrechnungAuftragGesamtpreis': \"Suche nach dem Gesamtpreis der Abrechnung, z.B. '70'.\",\n",
       " 'VerrechnungAuftrag.VerrechnungAuftragWaehrung': \"Finde die Währung des Gesamtpreises, z.B. 'EUR'.\"}"
      ]
     },
     "execution_count": 37,
     "metadata": {},
     "output_type": "execute_result"
    }
   ],
   "source": [
    "prompts = []\n",
    "with open('elements.json', 'r', encoding='utf-8') as f:\n",
    "    prompts = flatten_dict(json.load(f))\n",
    "prompts"
   ]
  },
  {
   "cell_type": "code",
   "execution_count": 38,
   "id": "33219cc2-d814-4214-b53c-00b1626ac13d",
   "metadata": {},
   "outputs": [],
   "source": [
    "flattened_prompt = \"\\n\".join([f\"{k}: {v}\" for k,v in prompts.items()])"
   ]
  },
  {
   "cell_type": "markdown",
   "id": "89f19bf6-465c-4b2e-b539-a2021450af85",
   "metadata": {},
   "source": [
    "# Contact Antropic"
   ]
  },
  {
   "cell_type": "code",
   "execution_count": 39,
   "id": "5e1ba66f-7f32-483b-82b8-a537c90e0130",
   "metadata": {},
   "outputs": [],
   "source": [
    "def pack_file(file_path, file_type, mime_type):\n",
    "    with open(file_path, \"rb\") as pdf_file:\n",
    "        file_contents = pdf_file.read()\n",
    "        return {\n",
    "            \"type\": \"document\",\n",
    "            \"source\": {\n",
    "              \"type\": \"base64\",\n",
    "              \"media_type\": mime_type,\n",
    "              \"data\": base64.b64encode(file_contents).decode(\"utf-8\"),\n",
    "            }\n",
    "        }\n",
    "\n",
    "def pack_pdf(pdf_file):\n",
    "    return pack_file(pdf_file, \"document\", \"application/pdf\")\n",
    "\n",
    "def pack_png(png_file):\n",
    "    return pack_file(png_file, \"image\", \"image/png\")\n",
    "\n",
    "\n",
    "def pack_text(text):\n",
    "    return {\n",
    "        \"type\": \"text\",\n",
    "        \"text\": text\n",
    "    }"
   ]
  },
  {
   "cell_type": "code",
   "execution_count": 40,
   "id": "5dc73a2b-b4b2-4eef-a337-a67bde08ec6d",
   "metadata": {},
   "outputs": [],
   "source": [
    "ANTHROPIC_API_KEY=gpt_api_key=open('.anthropic_key', 'r').read().replace('\\n','')"
   ]
  },
  {
   "cell_type": "code",
   "execution_count": 41,
   "id": "63e54135-f753-4562-a4a7-1805e32bd4ef",
   "metadata": {},
   "outputs": [],
   "source": [
    "# Define the API endpoint and headers\n",
    "url = \"https://api.anthropic.com/v1/messages\"\n",
    "headers = {\n",
    "    \"content-type\": \"application/json\",\n",
    "    \"x-api-key\": ANTHROPIC_API_KEY,\n",
    "    \"anthropic-version\": \"2023-06-01\",\n",
    "}"
   ]
  },
  {
   "cell_type": "code",
   "execution_count": 42,
   "id": "234b2703-0955-414d-ac94-952c8822162f",
   "metadata": {},
   "outputs": [],
   "source": [
    "def call_anthropic(messages):\n",
    "    data = {\n",
    "        \"model\": \"claude-3-5-sonnet-latest\",\n",
    "        \"max_tokens\": 8192,\n",
    "        \"temperature\": 0,\n",
    "        \"messages\": messages,\n",
    "    }\n",
    "    response = requests.post(url, headers=headers, json=data)\n",
    "    if response.status_code != 200:\n",
    "        raise Exception(response.text)\n",
    "    content = response.json()['content']\n",
    "    print(\"LLM Usage:\", json.dumps(response.json()['usage']))\n",
    "    #data['messages'].append({\"role\":\"assistant\", \"content\":content})\n",
    "    return content"
   ]
  },
  {
   "cell_type": "markdown",
   "id": "67d14fa8-9a9b-4567-9fda-b1d0bef086ef",
   "metadata": {},
   "source": [
    "# Full extraction"
   ]
  },
  {
   "cell_type": "code",
   "execution_count": 43,
   "id": "21bd4ee7-3241-4fab-8ce2-422d77f12f56",
   "metadata": {},
   "outputs": [
    {
     "data": {
      "text/plain": [
       "['Auftrag Scheucher1762.pdf',\n",
       " 'Auftrag Soprema3.pdf',\n",
       " 'Auftrag Scheucher4053.pdf',\n",
       " 'Auftrag Soprema1.pdf',\n",
       " 'Auftrag Scheucher5000.pdf',\n",
       " 'Auftrag Scheucher3063.pdf',\n",
       " 'Auftrag ACE1.pdf',\n",
       " 'Auftrag Haberkorn21.pdf',\n",
       " 'Auftrag ACE2.pdf',\n",
       " 'Auftrag Haberkorn22.pdf',\n",
       " 'Auftrag NUN5.pdf',\n",
       " 'Auftrag Scheucher1023.pdf',\n",
       " 'Auftrag NUN2.pdf',\n",
       " 'Auftrag NUN3.pdf',\n",
       " 'Auftrag NUN1.pdf']"
      ]
     },
     "execution_count": 43,
     "metadata": {},
     "output_type": "execute_result"
    }
   ],
   "source": [
    "input_files=[file for file in os.listdir(\"input\") if re.match(r\".*pdf\", file)]\n",
    "input_files"
   ]
  },
  {
   "cell_type": "code",
   "execution_count": 44,
   "id": "04eda764-ed90-4391-bf1e-257d34efaa2a",
   "metadata": {},
   "outputs": [],
   "source": [
    "def process_file(input_file):\n",
    "    messages_content = [\n",
    "        {\n",
    "            \"role\": \"user\",\n",
    "            \"content\": [\n",
    "                {\n",
    "                    \"type\": \"text\",\n",
    "                    \"text\": \"Du bist ein OCR system zum Erkennen strukturierter Daten in Dokumenten. Du erkennst \"\n",
    "                            \"Aufträge für die Firma ant-sfer Speditions GmbH. antsfer.com ist also der Auftragnehmer.\"\n",
    "                            \" Der Absender des Auftrages ist der Auftraggeber, niemals ans-fer selber. Die Aufträge kommen als \"\n",
    "                            \"Dokumente vom Kunden und sollen in das CRM von ant-sfer Speditions GmbH eingepflegt \"\n",
    "                            \"werden. Die Aufträge können manuell überarbeitet sein: Durchgestrichene Absätze \"\n",
    "                            \"bitte nicht erkennen.\"\n",
    "                }, {\n",
    "                    \"type\": \"text\",\n",
    "                    \"text\": \"Gib alle Längenangaben in cm an, außer wenn im Namen des Feldes explizit meter steht. \"\n",
    "                            \"Zahlen sollen mit dem deutschen Komma formatiert werden. \"\n",
    "                            \"Falls nur eine Entladestation angegeben ist, dann soll die Beladestation mit den Daten des Auftaggebers gefüllt werden.\"\n",
    "                }\n",
    "            ]\n",
    "        },\n",
    "        {\n",
    "            \"role\": \"user\",\n",
    "            \"content\": [\n",
    "                pack_text(f\"Erkenne die Daten in den Bildern. Gib Deinen Output als JSON aus und fülle die \"\n",
    "                            f\"folgenden Elemente mit Werten: \\n\"\n",
    "                            f\"Wenn Du einen wert nicht finden \"\n",
    "                            f\"kannst, liefere \\\"\\\" als Wert zurück.\"),\n",
    "                pack_text(flattened_prompt),\n",
    "                pack_pdf(input_file)\n",
    "            ]\n",
    "        }\n",
    "    ]\n",
    "    try:\n",
    "        response = call_anthropic(messages_content)\n",
    "        text = re.sub(\"^[^{]*\",\"\",response[0]['text'])\n",
    "        as_json= json.loads(text)\n",
    "        as_json= flatten_dict(as_json)\n",
    "        return as_json\n",
    "    except Exception as e:\n",
    "        raise Exception(f\"Error processing {input_file}\") from e "
   ]
  },
  {
   "cell_type": "code",
   "execution_count": 47,
   "id": "a0b986e3-bdb1-450c-bdad-e51ae1418e54",
   "metadata": {
    "scrolled": true
   },
   "outputs": [
    {
     "name": "stdout",
     "output_type": "stream",
     "text": [
      "LLM Usage: {\"input_tokens\": 6100, \"cache_creation_input_tokens\": 0, \"cache_read_input_tokens\": 0, \"output_tokens\": 1245}\n",
      "LLM Usage: {\"input_tokens\": 10084, \"cache_creation_input_tokens\": 0, \"cache_read_input_tokens\": 0, \"output_tokens\": 1273}\n",
      "LLM Usage: {\"input_tokens\": 6092, \"cache_creation_input_tokens\": 0, \"cache_read_input_tokens\": 0, \"output_tokens\": 1247}\n",
      "LLM Usage: {\"input_tokens\": 5879, \"cache_creation_input_tokens\": 0, \"cache_read_input_tokens\": 0, \"output_tokens\": 1343}\n",
      "LLM Usage: {\"input_tokens\": 6098, \"cache_creation_input_tokens\": 0, \"cache_read_input_tokens\": 0, \"output_tokens\": 1253}\n",
      "LLM Usage: {\"input_tokens\": 6095, \"cache_creation_input_tokens\": 0, \"cache_read_input_tokens\": 0, \"output_tokens\": 1250}\n",
      "LLM Usage: {\"input_tokens\": 10084, \"cache_creation_input_tokens\": 0, \"cache_read_input_tokens\": 0, \"output_tokens\": 1299}\n",
      "LLM Usage: {\"input_tokens\": 5660, \"cache_creation_input_tokens\": 0, \"cache_read_input_tokens\": 0, \"output_tokens\": 1303}\n"
     ]
    },
    {
     "ename": "KeyboardInterrupt",
     "evalue": "",
     "output_type": "error",
     "traceback": [
      "\u001b[0;31m---------------------------------------------------------------------------\u001b[0m",
      "\u001b[0;31mKeyboardInterrupt\u001b[0m                         Traceback (most recent call last)",
      "Cell \u001b[0;32mIn[47], line 1\u001b[0m\n\u001b[0;32m----> 1\u001b[0m results \u001b[38;5;241m=\u001b[39m [\u001b[43mprocess_file\u001b[49m\u001b[43m(\u001b[49m\u001b[38;5;124;43m\"\u001b[39;49m\u001b[38;5;124;43minput/\u001b[39;49m\u001b[38;5;124;43m\"\u001b[39;49m\u001b[43m \u001b[49m\u001b[38;5;241;43m+\u001b[39;49m\u001b[43m \u001b[49m\u001b[43minput_file\u001b[49m\u001b[43m)\u001b[49m \u001b[38;5;28;01mfor\u001b[39;00m input_file \u001b[38;5;129;01min\u001b[39;00m input_files]\n",
      "Cell \u001b[0;32mIn[44], line 35\u001b[0m, in \u001b[0;36mprocess_file\u001b[0;34m(input_file)\u001b[0m\n\u001b[1;32m      2\u001b[0m messages_content \u001b[38;5;241m=\u001b[39m [\n\u001b[1;32m      3\u001b[0m     {\n\u001b[1;32m      4\u001b[0m         \u001b[38;5;124m\"\u001b[39m\u001b[38;5;124mrole\u001b[39m\u001b[38;5;124m\"\u001b[39m: \u001b[38;5;124m\"\u001b[39m\u001b[38;5;124muser\u001b[39m\u001b[38;5;124m\"\u001b[39m,\n\u001b[0;32m   (...)\u001b[0m\n\u001b[1;32m     32\u001b[0m     }\n\u001b[1;32m     33\u001b[0m ]\n\u001b[1;32m     34\u001b[0m \u001b[38;5;28;01mtry\u001b[39;00m:\n\u001b[0;32m---> 35\u001b[0m     response \u001b[38;5;241m=\u001b[39m \u001b[43mcall_anthropic\u001b[49m\u001b[43m(\u001b[49m\u001b[43mmessages_content\u001b[49m\u001b[43m)\u001b[49m\n\u001b[1;32m     36\u001b[0m     text \u001b[38;5;241m=\u001b[39m re\u001b[38;5;241m.\u001b[39msub(\u001b[38;5;124m\"\u001b[39m\u001b[38;5;124m^[^\u001b[39m\u001b[38;5;124m{\u001b[39m\u001b[38;5;124m]*\u001b[39m\u001b[38;5;124m\"\u001b[39m,\u001b[38;5;124m\"\u001b[39m\u001b[38;5;124m\"\u001b[39m,response[\u001b[38;5;241m0\u001b[39m][\u001b[38;5;124m'\u001b[39m\u001b[38;5;124mtext\u001b[39m\u001b[38;5;124m'\u001b[39m])\n\u001b[1;32m     37\u001b[0m     as_json\u001b[38;5;241m=\u001b[39m json\u001b[38;5;241m.\u001b[39mloads(text)\n",
      "Cell \u001b[0;32mIn[42], line 8\u001b[0m, in \u001b[0;36mcall_anthropic\u001b[0;34m(messages)\u001b[0m\n\u001b[1;32m      1\u001b[0m \u001b[38;5;28;01mdef\u001b[39;00m \u001b[38;5;21mcall_anthropic\u001b[39m(messages):\n\u001b[1;32m      2\u001b[0m     data \u001b[38;5;241m=\u001b[39m {\n\u001b[1;32m      3\u001b[0m         \u001b[38;5;124m\"\u001b[39m\u001b[38;5;124mmodel\u001b[39m\u001b[38;5;124m\"\u001b[39m: \u001b[38;5;124m\"\u001b[39m\u001b[38;5;124mclaude-3-5-sonnet-latest\u001b[39m\u001b[38;5;124m\"\u001b[39m,\n\u001b[1;32m      4\u001b[0m         \u001b[38;5;124m\"\u001b[39m\u001b[38;5;124mmax_tokens\u001b[39m\u001b[38;5;124m\"\u001b[39m: \u001b[38;5;241m8192\u001b[39m,\n\u001b[1;32m      5\u001b[0m         \u001b[38;5;124m\"\u001b[39m\u001b[38;5;124mtemperature\u001b[39m\u001b[38;5;124m\"\u001b[39m: \u001b[38;5;241m0\u001b[39m,\n\u001b[1;32m      6\u001b[0m         \u001b[38;5;124m\"\u001b[39m\u001b[38;5;124mmessages\u001b[39m\u001b[38;5;124m\"\u001b[39m: messages,\n\u001b[1;32m      7\u001b[0m     }\n\u001b[0;32m----> 8\u001b[0m     response \u001b[38;5;241m=\u001b[39m \u001b[43mrequests\u001b[49m\u001b[38;5;241;43m.\u001b[39;49m\u001b[43mpost\u001b[49m\u001b[43m(\u001b[49m\u001b[43murl\u001b[49m\u001b[43m,\u001b[49m\u001b[43m \u001b[49m\u001b[43mheaders\u001b[49m\u001b[38;5;241;43m=\u001b[39;49m\u001b[43mheaders\u001b[49m\u001b[43m,\u001b[49m\u001b[43m \u001b[49m\u001b[43mjson\u001b[49m\u001b[38;5;241;43m=\u001b[39;49m\u001b[43mdata\u001b[49m\u001b[43m)\u001b[49m\n\u001b[1;32m      9\u001b[0m     \u001b[38;5;28;01mif\u001b[39;00m response\u001b[38;5;241m.\u001b[39mstatus_code \u001b[38;5;241m!=\u001b[39m \u001b[38;5;241m200\u001b[39m:\n\u001b[1;32m     10\u001b[0m         \u001b[38;5;28;01mraise\u001b[39;00m \u001b[38;5;167;01mException\u001b[39;00m(response\u001b[38;5;241m.\u001b[39mtext)\n",
      "File \u001b[0;32m~/workspace/venv/3.13/lib/python3.13/site-packages/requests/api.py:115\u001b[0m, in \u001b[0;36mpost\u001b[0;34m(url, data, json, **kwargs)\u001b[0m\n\u001b[1;32m    103\u001b[0m \u001b[38;5;28;01mdef\u001b[39;00m \u001b[38;5;21mpost\u001b[39m(url, data\u001b[38;5;241m=\u001b[39m\u001b[38;5;28;01mNone\u001b[39;00m, json\u001b[38;5;241m=\u001b[39m\u001b[38;5;28;01mNone\u001b[39;00m, \u001b[38;5;241m*\u001b[39m\u001b[38;5;241m*\u001b[39mkwargs):\n\u001b[1;32m    104\u001b[0m \u001b[38;5;250m    \u001b[39m\u001b[38;5;124mr\u001b[39m\u001b[38;5;124;03m\"\"\"Sends a POST request.\u001b[39;00m\n\u001b[1;32m    105\u001b[0m \n\u001b[1;32m    106\u001b[0m \u001b[38;5;124;03m    :param url: URL for the new :class:`Request` object.\u001b[39;00m\n\u001b[0;32m   (...)\u001b[0m\n\u001b[1;32m    112\u001b[0m \u001b[38;5;124;03m    :rtype: requests.Response\u001b[39;00m\n\u001b[1;32m    113\u001b[0m \u001b[38;5;124;03m    \"\"\"\u001b[39;00m\n\u001b[0;32m--> 115\u001b[0m     \u001b[38;5;28;01mreturn\u001b[39;00m \u001b[43mrequest\u001b[49m\u001b[43m(\u001b[49m\u001b[38;5;124;43m\"\u001b[39;49m\u001b[38;5;124;43mpost\u001b[39;49m\u001b[38;5;124;43m\"\u001b[39;49m\u001b[43m,\u001b[49m\u001b[43m \u001b[49m\u001b[43murl\u001b[49m\u001b[43m,\u001b[49m\u001b[43m \u001b[49m\u001b[43mdata\u001b[49m\u001b[38;5;241;43m=\u001b[39;49m\u001b[43mdata\u001b[49m\u001b[43m,\u001b[49m\u001b[43m \u001b[49m\u001b[43mjson\u001b[49m\u001b[38;5;241;43m=\u001b[39;49m\u001b[43mjson\u001b[49m\u001b[43m,\u001b[49m\u001b[43m \u001b[49m\u001b[38;5;241;43m*\u001b[39;49m\u001b[38;5;241;43m*\u001b[39;49m\u001b[43mkwargs\u001b[49m\u001b[43m)\u001b[49m\n",
      "File \u001b[0;32m~/workspace/venv/3.13/lib/python3.13/site-packages/requests/api.py:59\u001b[0m, in \u001b[0;36mrequest\u001b[0;34m(method, url, **kwargs)\u001b[0m\n\u001b[1;32m     55\u001b[0m \u001b[38;5;66;03m# By using the 'with' statement we are sure the session is closed, thus we\u001b[39;00m\n\u001b[1;32m     56\u001b[0m \u001b[38;5;66;03m# avoid leaving sockets open which can trigger a ResourceWarning in some\u001b[39;00m\n\u001b[1;32m     57\u001b[0m \u001b[38;5;66;03m# cases, and look like a memory leak in others.\u001b[39;00m\n\u001b[1;32m     58\u001b[0m \u001b[38;5;28;01mwith\u001b[39;00m sessions\u001b[38;5;241m.\u001b[39mSession() \u001b[38;5;28;01mas\u001b[39;00m session:\n\u001b[0;32m---> 59\u001b[0m     \u001b[38;5;28;01mreturn\u001b[39;00m \u001b[43msession\u001b[49m\u001b[38;5;241;43m.\u001b[39;49m\u001b[43mrequest\u001b[49m\u001b[43m(\u001b[49m\u001b[43mmethod\u001b[49m\u001b[38;5;241;43m=\u001b[39;49m\u001b[43mmethod\u001b[49m\u001b[43m,\u001b[49m\u001b[43m \u001b[49m\u001b[43murl\u001b[49m\u001b[38;5;241;43m=\u001b[39;49m\u001b[43murl\u001b[49m\u001b[43m,\u001b[49m\u001b[43m \u001b[49m\u001b[38;5;241;43m*\u001b[39;49m\u001b[38;5;241;43m*\u001b[39;49m\u001b[43mkwargs\u001b[49m\u001b[43m)\u001b[49m\n",
      "File \u001b[0;32m~/workspace/venv/3.13/lib/python3.13/site-packages/requests/sessions.py:589\u001b[0m, in \u001b[0;36mSession.request\u001b[0;34m(self, method, url, params, data, headers, cookies, files, auth, timeout, allow_redirects, proxies, hooks, stream, verify, cert, json)\u001b[0m\n\u001b[1;32m    584\u001b[0m send_kwargs \u001b[38;5;241m=\u001b[39m {\n\u001b[1;32m    585\u001b[0m     \u001b[38;5;124m\"\u001b[39m\u001b[38;5;124mtimeout\u001b[39m\u001b[38;5;124m\"\u001b[39m: timeout,\n\u001b[1;32m    586\u001b[0m     \u001b[38;5;124m\"\u001b[39m\u001b[38;5;124mallow_redirects\u001b[39m\u001b[38;5;124m\"\u001b[39m: allow_redirects,\n\u001b[1;32m    587\u001b[0m }\n\u001b[1;32m    588\u001b[0m send_kwargs\u001b[38;5;241m.\u001b[39mupdate(settings)\n\u001b[0;32m--> 589\u001b[0m resp \u001b[38;5;241m=\u001b[39m \u001b[38;5;28;43mself\u001b[39;49m\u001b[38;5;241;43m.\u001b[39;49m\u001b[43msend\u001b[49m\u001b[43m(\u001b[49m\u001b[43mprep\u001b[49m\u001b[43m,\u001b[49m\u001b[43m \u001b[49m\u001b[38;5;241;43m*\u001b[39;49m\u001b[38;5;241;43m*\u001b[39;49m\u001b[43msend_kwargs\u001b[49m\u001b[43m)\u001b[49m\n\u001b[1;32m    591\u001b[0m \u001b[38;5;28;01mreturn\u001b[39;00m resp\n",
      "File \u001b[0;32m~/workspace/venv/3.13/lib/python3.13/site-packages/requests/sessions.py:703\u001b[0m, in \u001b[0;36mSession.send\u001b[0;34m(self, request, **kwargs)\u001b[0m\n\u001b[1;32m    700\u001b[0m start \u001b[38;5;241m=\u001b[39m preferred_clock()\n\u001b[1;32m    702\u001b[0m \u001b[38;5;66;03m# Send the request\u001b[39;00m\n\u001b[0;32m--> 703\u001b[0m r \u001b[38;5;241m=\u001b[39m \u001b[43madapter\u001b[49m\u001b[38;5;241;43m.\u001b[39;49m\u001b[43msend\u001b[49m\u001b[43m(\u001b[49m\u001b[43mrequest\u001b[49m\u001b[43m,\u001b[49m\u001b[43m \u001b[49m\u001b[38;5;241;43m*\u001b[39;49m\u001b[38;5;241;43m*\u001b[39;49m\u001b[43mkwargs\u001b[49m\u001b[43m)\u001b[49m\n\u001b[1;32m    705\u001b[0m \u001b[38;5;66;03m# Total elapsed time of the request (approximately)\u001b[39;00m\n\u001b[1;32m    706\u001b[0m elapsed \u001b[38;5;241m=\u001b[39m preferred_clock() \u001b[38;5;241m-\u001b[39m start\n",
      "File \u001b[0;32m~/workspace/venv/3.13/lib/python3.13/site-packages/requests/adapters.py:667\u001b[0m, in \u001b[0;36mHTTPAdapter.send\u001b[0;34m(self, request, stream, timeout, verify, cert, proxies)\u001b[0m\n\u001b[1;32m    664\u001b[0m     timeout \u001b[38;5;241m=\u001b[39m TimeoutSauce(connect\u001b[38;5;241m=\u001b[39mtimeout, read\u001b[38;5;241m=\u001b[39mtimeout)\n\u001b[1;32m    666\u001b[0m \u001b[38;5;28;01mtry\u001b[39;00m:\n\u001b[0;32m--> 667\u001b[0m     resp \u001b[38;5;241m=\u001b[39m \u001b[43mconn\u001b[49m\u001b[38;5;241;43m.\u001b[39;49m\u001b[43murlopen\u001b[49m\u001b[43m(\u001b[49m\n\u001b[1;32m    668\u001b[0m \u001b[43m        \u001b[49m\u001b[43mmethod\u001b[49m\u001b[38;5;241;43m=\u001b[39;49m\u001b[43mrequest\u001b[49m\u001b[38;5;241;43m.\u001b[39;49m\u001b[43mmethod\u001b[49m\u001b[43m,\u001b[49m\n\u001b[1;32m    669\u001b[0m \u001b[43m        \u001b[49m\u001b[43murl\u001b[49m\u001b[38;5;241;43m=\u001b[39;49m\u001b[43murl\u001b[49m\u001b[43m,\u001b[49m\n\u001b[1;32m    670\u001b[0m \u001b[43m        \u001b[49m\u001b[43mbody\u001b[49m\u001b[38;5;241;43m=\u001b[39;49m\u001b[43mrequest\u001b[49m\u001b[38;5;241;43m.\u001b[39;49m\u001b[43mbody\u001b[49m\u001b[43m,\u001b[49m\n\u001b[1;32m    671\u001b[0m \u001b[43m        \u001b[49m\u001b[43mheaders\u001b[49m\u001b[38;5;241;43m=\u001b[39;49m\u001b[43mrequest\u001b[49m\u001b[38;5;241;43m.\u001b[39;49m\u001b[43mheaders\u001b[49m\u001b[43m,\u001b[49m\n\u001b[1;32m    672\u001b[0m \u001b[43m        \u001b[49m\u001b[43mredirect\u001b[49m\u001b[38;5;241;43m=\u001b[39;49m\u001b[38;5;28;43;01mFalse\u001b[39;49;00m\u001b[43m,\u001b[49m\n\u001b[1;32m    673\u001b[0m \u001b[43m        \u001b[49m\u001b[43massert_same_host\u001b[49m\u001b[38;5;241;43m=\u001b[39;49m\u001b[38;5;28;43;01mFalse\u001b[39;49;00m\u001b[43m,\u001b[49m\n\u001b[1;32m    674\u001b[0m \u001b[43m        \u001b[49m\u001b[43mpreload_content\u001b[49m\u001b[38;5;241;43m=\u001b[39;49m\u001b[38;5;28;43;01mFalse\u001b[39;49;00m\u001b[43m,\u001b[49m\n\u001b[1;32m    675\u001b[0m \u001b[43m        \u001b[49m\u001b[43mdecode_content\u001b[49m\u001b[38;5;241;43m=\u001b[39;49m\u001b[38;5;28;43;01mFalse\u001b[39;49;00m\u001b[43m,\u001b[49m\n\u001b[1;32m    676\u001b[0m \u001b[43m        \u001b[49m\u001b[43mretries\u001b[49m\u001b[38;5;241;43m=\u001b[39;49m\u001b[38;5;28;43mself\u001b[39;49m\u001b[38;5;241;43m.\u001b[39;49m\u001b[43mmax_retries\u001b[49m\u001b[43m,\u001b[49m\n\u001b[1;32m    677\u001b[0m \u001b[43m        \u001b[49m\u001b[43mtimeout\u001b[49m\u001b[38;5;241;43m=\u001b[39;49m\u001b[43mtimeout\u001b[49m\u001b[43m,\u001b[49m\n\u001b[1;32m    678\u001b[0m \u001b[43m        \u001b[49m\u001b[43mchunked\u001b[49m\u001b[38;5;241;43m=\u001b[39;49m\u001b[43mchunked\u001b[49m\u001b[43m,\u001b[49m\n\u001b[1;32m    679\u001b[0m \u001b[43m    \u001b[49m\u001b[43m)\u001b[49m\n\u001b[1;32m    681\u001b[0m \u001b[38;5;28;01mexcept\u001b[39;00m (ProtocolError, \u001b[38;5;167;01mOSError\u001b[39;00m) \u001b[38;5;28;01mas\u001b[39;00m err:\n\u001b[1;32m    682\u001b[0m     \u001b[38;5;28;01mraise\u001b[39;00m \u001b[38;5;167;01mConnectionError\u001b[39;00m(err, request\u001b[38;5;241m=\u001b[39mrequest)\n",
      "File \u001b[0;32m~/workspace/venv/3.13/lib/python3.13/site-packages/urllib3/connectionpool.py:789\u001b[0m, in \u001b[0;36mHTTPConnectionPool.urlopen\u001b[0;34m(self, method, url, body, headers, retries, redirect, assert_same_host, timeout, pool_timeout, release_conn, chunked, body_pos, preload_content, decode_content, **response_kw)\u001b[0m\n\u001b[1;32m    786\u001b[0m response_conn \u001b[38;5;241m=\u001b[39m conn \u001b[38;5;28;01mif\u001b[39;00m \u001b[38;5;129;01mnot\u001b[39;00m release_conn \u001b[38;5;28;01melse\u001b[39;00m \u001b[38;5;28;01mNone\u001b[39;00m\n\u001b[1;32m    788\u001b[0m \u001b[38;5;66;03m# Make the request on the HTTPConnection object\u001b[39;00m\n\u001b[0;32m--> 789\u001b[0m response \u001b[38;5;241m=\u001b[39m \u001b[38;5;28;43mself\u001b[39;49m\u001b[38;5;241;43m.\u001b[39;49m\u001b[43m_make_request\u001b[49m\u001b[43m(\u001b[49m\n\u001b[1;32m    790\u001b[0m \u001b[43m    \u001b[49m\u001b[43mconn\u001b[49m\u001b[43m,\u001b[49m\n\u001b[1;32m    791\u001b[0m \u001b[43m    \u001b[49m\u001b[43mmethod\u001b[49m\u001b[43m,\u001b[49m\n\u001b[1;32m    792\u001b[0m \u001b[43m    \u001b[49m\u001b[43murl\u001b[49m\u001b[43m,\u001b[49m\n\u001b[1;32m    793\u001b[0m \u001b[43m    \u001b[49m\u001b[43mtimeout\u001b[49m\u001b[38;5;241;43m=\u001b[39;49m\u001b[43mtimeout_obj\u001b[49m\u001b[43m,\u001b[49m\n\u001b[1;32m    794\u001b[0m \u001b[43m    \u001b[49m\u001b[43mbody\u001b[49m\u001b[38;5;241;43m=\u001b[39;49m\u001b[43mbody\u001b[49m\u001b[43m,\u001b[49m\n\u001b[1;32m    795\u001b[0m \u001b[43m    \u001b[49m\u001b[43mheaders\u001b[49m\u001b[38;5;241;43m=\u001b[39;49m\u001b[43mheaders\u001b[49m\u001b[43m,\u001b[49m\n\u001b[1;32m    796\u001b[0m \u001b[43m    \u001b[49m\u001b[43mchunked\u001b[49m\u001b[38;5;241;43m=\u001b[39;49m\u001b[43mchunked\u001b[49m\u001b[43m,\u001b[49m\n\u001b[1;32m    797\u001b[0m \u001b[43m    \u001b[49m\u001b[43mretries\u001b[49m\u001b[38;5;241;43m=\u001b[39;49m\u001b[43mretries\u001b[49m\u001b[43m,\u001b[49m\n\u001b[1;32m    798\u001b[0m \u001b[43m    \u001b[49m\u001b[43mresponse_conn\u001b[49m\u001b[38;5;241;43m=\u001b[39;49m\u001b[43mresponse_conn\u001b[49m\u001b[43m,\u001b[49m\n\u001b[1;32m    799\u001b[0m \u001b[43m    \u001b[49m\u001b[43mpreload_content\u001b[49m\u001b[38;5;241;43m=\u001b[39;49m\u001b[43mpreload_content\u001b[49m\u001b[43m,\u001b[49m\n\u001b[1;32m    800\u001b[0m \u001b[43m    \u001b[49m\u001b[43mdecode_content\u001b[49m\u001b[38;5;241;43m=\u001b[39;49m\u001b[43mdecode_content\u001b[49m\u001b[43m,\u001b[49m\n\u001b[1;32m    801\u001b[0m \u001b[43m    \u001b[49m\u001b[38;5;241;43m*\u001b[39;49m\u001b[38;5;241;43m*\u001b[39;49m\u001b[43mresponse_kw\u001b[49m\u001b[43m,\u001b[49m\n\u001b[1;32m    802\u001b[0m \u001b[43m\u001b[49m\u001b[43m)\u001b[49m\n\u001b[1;32m    804\u001b[0m \u001b[38;5;66;03m# Everything went great!\u001b[39;00m\n\u001b[1;32m    805\u001b[0m clean_exit \u001b[38;5;241m=\u001b[39m \u001b[38;5;28;01mTrue\u001b[39;00m\n",
      "File \u001b[0;32m~/workspace/venv/3.13/lib/python3.13/site-packages/urllib3/connectionpool.py:536\u001b[0m, in \u001b[0;36mHTTPConnectionPool._make_request\u001b[0;34m(self, conn, method, url, body, headers, retries, timeout, chunked, response_conn, preload_content, decode_content, enforce_content_length)\u001b[0m\n\u001b[1;32m    534\u001b[0m \u001b[38;5;66;03m# Receive the response from the server\u001b[39;00m\n\u001b[1;32m    535\u001b[0m \u001b[38;5;28;01mtry\u001b[39;00m:\n\u001b[0;32m--> 536\u001b[0m     response \u001b[38;5;241m=\u001b[39m \u001b[43mconn\u001b[49m\u001b[38;5;241;43m.\u001b[39;49m\u001b[43mgetresponse\u001b[49m\u001b[43m(\u001b[49m\u001b[43m)\u001b[49m\n\u001b[1;32m    537\u001b[0m \u001b[38;5;28;01mexcept\u001b[39;00m (BaseSSLError, \u001b[38;5;167;01mOSError\u001b[39;00m) \u001b[38;5;28;01mas\u001b[39;00m e:\n\u001b[1;32m    538\u001b[0m     \u001b[38;5;28mself\u001b[39m\u001b[38;5;241m.\u001b[39m_raise_timeout(err\u001b[38;5;241m=\u001b[39me, url\u001b[38;5;241m=\u001b[39murl, timeout_value\u001b[38;5;241m=\u001b[39mread_timeout)\n",
      "File \u001b[0;32m~/workspace/venv/3.13/lib/python3.13/site-packages/urllib3/connection.py:507\u001b[0m, in \u001b[0;36mHTTPConnection.getresponse\u001b[0;34m(self)\u001b[0m\n\u001b[1;32m    504\u001b[0m \u001b[38;5;28;01mfrom\u001b[39;00m \u001b[38;5;21;01m.\u001b[39;00m\u001b[38;5;21;01mresponse\u001b[39;00m \u001b[38;5;28;01mimport\u001b[39;00m HTTPResponse\n\u001b[1;32m    506\u001b[0m \u001b[38;5;66;03m# Get the response from http.client.HTTPConnection\u001b[39;00m\n\u001b[0;32m--> 507\u001b[0m httplib_response \u001b[38;5;241m=\u001b[39m \u001b[38;5;28;43msuper\u001b[39;49m\u001b[43m(\u001b[49m\u001b[43m)\u001b[49m\u001b[38;5;241;43m.\u001b[39;49m\u001b[43mgetresponse\u001b[49m\u001b[43m(\u001b[49m\u001b[43m)\u001b[49m\n\u001b[1;32m    509\u001b[0m \u001b[38;5;28;01mtry\u001b[39;00m:\n\u001b[1;32m    510\u001b[0m     assert_header_parsing(httplib_response\u001b[38;5;241m.\u001b[39mmsg)\n",
      "File \u001b[0;32m/opt/homebrew/Cellar/python@3.13/3.13.1/Frameworks/Python.framework/Versions/3.13/lib/python3.13/http/client.py:1428\u001b[0m, in \u001b[0;36mHTTPConnection.getresponse\u001b[0;34m(self)\u001b[0m\n\u001b[1;32m   1426\u001b[0m \u001b[38;5;28;01mtry\u001b[39;00m:\n\u001b[1;32m   1427\u001b[0m     \u001b[38;5;28;01mtry\u001b[39;00m:\n\u001b[0;32m-> 1428\u001b[0m         \u001b[43mresponse\u001b[49m\u001b[38;5;241;43m.\u001b[39;49m\u001b[43mbegin\u001b[49m\u001b[43m(\u001b[49m\u001b[43m)\u001b[49m\n\u001b[1;32m   1429\u001b[0m     \u001b[38;5;28;01mexcept\u001b[39;00m \u001b[38;5;167;01mConnectionError\u001b[39;00m:\n\u001b[1;32m   1430\u001b[0m         \u001b[38;5;28mself\u001b[39m\u001b[38;5;241m.\u001b[39mclose()\n",
      "File \u001b[0;32m/opt/homebrew/Cellar/python@3.13/3.13.1/Frameworks/Python.framework/Versions/3.13/lib/python3.13/http/client.py:331\u001b[0m, in \u001b[0;36mHTTPResponse.begin\u001b[0;34m(self)\u001b[0m\n\u001b[1;32m    329\u001b[0m \u001b[38;5;66;03m# read until we get a non-100 response\u001b[39;00m\n\u001b[1;32m    330\u001b[0m \u001b[38;5;28;01mwhile\u001b[39;00m \u001b[38;5;28;01mTrue\u001b[39;00m:\n\u001b[0;32m--> 331\u001b[0m     version, status, reason \u001b[38;5;241m=\u001b[39m \u001b[38;5;28;43mself\u001b[39;49m\u001b[38;5;241;43m.\u001b[39;49m\u001b[43m_read_status\u001b[49m\u001b[43m(\u001b[49m\u001b[43m)\u001b[49m\n\u001b[1;32m    332\u001b[0m     \u001b[38;5;28;01mif\u001b[39;00m status \u001b[38;5;241m!=\u001b[39m CONTINUE:\n\u001b[1;32m    333\u001b[0m         \u001b[38;5;28;01mbreak\u001b[39;00m\n",
      "File \u001b[0;32m/opt/homebrew/Cellar/python@3.13/3.13.1/Frameworks/Python.framework/Versions/3.13/lib/python3.13/http/client.py:292\u001b[0m, in \u001b[0;36mHTTPResponse._read_status\u001b[0;34m(self)\u001b[0m\n\u001b[1;32m    291\u001b[0m \u001b[38;5;28;01mdef\u001b[39;00m \u001b[38;5;21m_read_status\u001b[39m(\u001b[38;5;28mself\u001b[39m):\n\u001b[0;32m--> 292\u001b[0m     line \u001b[38;5;241m=\u001b[39m \u001b[38;5;28mstr\u001b[39m(\u001b[38;5;28;43mself\u001b[39;49m\u001b[38;5;241;43m.\u001b[39;49m\u001b[43mfp\u001b[49m\u001b[38;5;241;43m.\u001b[39;49m\u001b[43mreadline\u001b[49m\u001b[43m(\u001b[49m\u001b[43m_MAXLINE\u001b[49m\u001b[43m \u001b[49m\u001b[38;5;241;43m+\u001b[39;49m\u001b[43m \u001b[49m\u001b[38;5;241;43m1\u001b[39;49m\u001b[43m)\u001b[49m, \u001b[38;5;124m\"\u001b[39m\u001b[38;5;124miso-8859-1\u001b[39m\u001b[38;5;124m\"\u001b[39m)\n\u001b[1;32m    293\u001b[0m     \u001b[38;5;28;01mif\u001b[39;00m \u001b[38;5;28mlen\u001b[39m(line) \u001b[38;5;241m>\u001b[39m _MAXLINE:\n\u001b[1;32m    294\u001b[0m         \u001b[38;5;28;01mraise\u001b[39;00m LineTooLong(\u001b[38;5;124m\"\u001b[39m\u001b[38;5;124mstatus line\u001b[39m\u001b[38;5;124m\"\u001b[39m)\n",
      "File \u001b[0;32m/opt/homebrew/Cellar/python@3.13/3.13.1/Frameworks/Python.framework/Versions/3.13/lib/python3.13/socket.py:719\u001b[0m, in \u001b[0;36mSocketIO.readinto\u001b[0;34m(self, b)\u001b[0m\n\u001b[1;32m    717\u001b[0m     \u001b[38;5;28;01mraise\u001b[39;00m \u001b[38;5;167;01mOSError\u001b[39;00m(\u001b[38;5;124m\"\u001b[39m\u001b[38;5;124mcannot read from timed out object\u001b[39m\u001b[38;5;124m\"\u001b[39m)\n\u001b[1;32m    718\u001b[0m \u001b[38;5;28;01mtry\u001b[39;00m:\n\u001b[0;32m--> 719\u001b[0m     \u001b[38;5;28;01mreturn\u001b[39;00m \u001b[38;5;28;43mself\u001b[39;49m\u001b[38;5;241;43m.\u001b[39;49m\u001b[43m_sock\u001b[49m\u001b[38;5;241;43m.\u001b[39;49m\u001b[43mrecv_into\u001b[49m\u001b[43m(\u001b[49m\u001b[43mb\u001b[49m\u001b[43m)\u001b[49m\n\u001b[1;32m    720\u001b[0m \u001b[38;5;28;01mexcept\u001b[39;00m timeout:\n\u001b[1;32m    721\u001b[0m     \u001b[38;5;28mself\u001b[39m\u001b[38;5;241m.\u001b[39m_timeout_occurred \u001b[38;5;241m=\u001b[39m \u001b[38;5;28;01mTrue\u001b[39;00m\n",
      "File \u001b[0;32m/opt/homebrew/Cellar/python@3.13/3.13.1/Frameworks/Python.framework/Versions/3.13/lib/python3.13/ssl.py:1304\u001b[0m, in \u001b[0;36mSSLSocket.recv_into\u001b[0;34m(self, buffer, nbytes, flags)\u001b[0m\n\u001b[1;32m   1300\u001b[0m     \u001b[38;5;28;01mif\u001b[39;00m flags \u001b[38;5;241m!=\u001b[39m \u001b[38;5;241m0\u001b[39m:\n\u001b[1;32m   1301\u001b[0m         \u001b[38;5;28;01mraise\u001b[39;00m \u001b[38;5;167;01mValueError\u001b[39;00m(\n\u001b[1;32m   1302\u001b[0m           \u001b[38;5;124m\"\u001b[39m\u001b[38;5;124mnon-zero flags not allowed in calls to recv_into() on \u001b[39m\u001b[38;5;132;01m%s\u001b[39;00m\u001b[38;5;124m\"\u001b[39m \u001b[38;5;241m%\u001b[39m\n\u001b[1;32m   1303\u001b[0m           \u001b[38;5;28mself\u001b[39m\u001b[38;5;241m.\u001b[39m\u001b[38;5;18m__class__\u001b[39m)\n\u001b[0;32m-> 1304\u001b[0m     \u001b[38;5;28;01mreturn\u001b[39;00m \u001b[38;5;28;43mself\u001b[39;49m\u001b[38;5;241;43m.\u001b[39;49m\u001b[43mread\u001b[49m\u001b[43m(\u001b[49m\u001b[43mnbytes\u001b[49m\u001b[43m,\u001b[49m\u001b[43m \u001b[49m\u001b[43mbuffer\u001b[49m\u001b[43m)\u001b[49m\n\u001b[1;32m   1305\u001b[0m \u001b[38;5;28;01melse\u001b[39;00m:\n\u001b[1;32m   1306\u001b[0m     \u001b[38;5;28;01mreturn\u001b[39;00m \u001b[38;5;28msuper\u001b[39m()\u001b[38;5;241m.\u001b[39mrecv_into(buffer, nbytes, flags)\n",
      "File \u001b[0;32m/opt/homebrew/Cellar/python@3.13/3.13.1/Frameworks/Python.framework/Versions/3.13/lib/python3.13/ssl.py:1138\u001b[0m, in \u001b[0;36mSSLSocket.read\u001b[0;34m(self, len, buffer)\u001b[0m\n\u001b[1;32m   1136\u001b[0m \u001b[38;5;28;01mtry\u001b[39;00m:\n\u001b[1;32m   1137\u001b[0m     \u001b[38;5;28;01mif\u001b[39;00m buffer \u001b[38;5;129;01mis\u001b[39;00m \u001b[38;5;129;01mnot\u001b[39;00m \u001b[38;5;28;01mNone\u001b[39;00m:\n\u001b[0;32m-> 1138\u001b[0m         \u001b[38;5;28;01mreturn\u001b[39;00m \u001b[38;5;28;43mself\u001b[39;49m\u001b[38;5;241;43m.\u001b[39;49m\u001b[43m_sslobj\u001b[49m\u001b[38;5;241;43m.\u001b[39;49m\u001b[43mread\u001b[49m\u001b[43m(\u001b[49m\u001b[38;5;28;43mlen\u001b[39;49m\u001b[43m,\u001b[49m\u001b[43m \u001b[49m\u001b[43mbuffer\u001b[49m\u001b[43m)\u001b[49m\n\u001b[1;32m   1139\u001b[0m     \u001b[38;5;28;01melse\u001b[39;00m:\n\u001b[1;32m   1140\u001b[0m         \u001b[38;5;28;01mreturn\u001b[39;00m \u001b[38;5;28mself\u001b[39m\u001b[38;5;241m.\u001b[39m_sslobj\u001b[38;5;241m.\u001b[39mread(\u001b[38;5;28mlen\u001b[39m)\n",
      "\u001b[0;31mKeyboardInterrupt\u001b[0m: "
     ]
    }
   ],
   "source": [
    "results = [process_file(\"input/\" + input_file) for input_file in input_files]"
   ]
  },
  {
   "cell_type": "code",
   "execution_count": 46,
   "id": "25990e05-af27-437c-8509-422f11704b1c",
   "metadata": {},
   "outputs": [],
   "source": [
    "for file_name, result in zip(input_files, results):\n",
    "    with open(\"output/\"+ re.sub(r\"pdf$\", \"json\", file_name), 'w') as file:\n",
    "        json.dump(result, file)"
   ]
  }
 ],
 "metadata": {
  "kernelspec": {
   "display_name": "venv_3.13",
   "language": "python",
   "name": "venv_3.13"
  },
  "language_info": {
   "codemirror_mode": {
    "name": "ipython",
    "version": 3
   },
   "file_extension": ".py",
   "mimetype": "text/x-python",
   "name": "python",
   "nbconvert_exporter": "python",
   "pygments_lexer": "ipython3",
   "version": "3.13.2"
  }
 },
 "nbformat": 4,
 "nbformat_minor": 5
}
