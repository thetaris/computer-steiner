{
 "cells": [
  {
   "cell_type": "code",
   "execution_count": 1,
   "id": "79502675-a4dd-40dc-9c1b-d9f687a953e9",
   "metadata": {},
   "outputs": [],
   "source": [
    "import os\n",
    "import subprocess\n",
    "import base64\n",
    "import json\n",
    "import xml.etree.ElementTree as ET\n",
    "import datetime\n",
    "import requests\n",
    "import re"
   ]
  },
  {
   "cell_type": "markdown",
   "id": "33b6f277-f69a-440f-8610-3cf585870144",
   "metadata": {},
   "source": [
    "# Generate Prompt"
   ]
  },
  {
   "cell_type": "code",
   "execution_count": 2,
   "id": "3474ad9d-5155-4559-b220-57b218c080e3",
   "metadata": {},
   "outputs": [],
   "source": [
    "def flatten_dict(d, parent_key=\"\"):\n",
    "    \"\"\"\n",
    "    Recursively flattens a nested dict into { \"full.path\": \"string\", ... }.\n",
    "    If the value is a dict, recurse; if it's a string, store it.\n",
    "    \"\"\"\n",
    "    flattened = {}\n",
    "    for key, value in d.items():\n",
    "        if parent_key:\n",
    "            full_key = f\"{parent_key}.{key}\"\n",
    "        else:\n",
    "            full_key = key\n",
    "\n",
    "        if isinstance(value, dict):\n",
    "            flattened.update(flatten_dict(value, full_key))\n",
    "        elif isinstance(value, str):\n",
    "            flattened[full_key] = value\n",
    "        else:\n",
    "            # If list/number/None => skip or handle as needed\n",
    "            pass\n",
    "    return flattened"
   ]
  },
  {
   "cell_type": "code",
   "execution_count": 3,
   "id": "44023bc4-0c16-40f2-991d-efdd1b74ac44",
   "metadata": {},
   "outputs": [
    {
     "data": {
      "text/plain": [
       "{'Verarbeitungskennzeichen': \"Suche nach dem Verarbeitungskennzeichen, das meistens mit einem Buchstaben angegeben ist, z.B. 'N'.\",\n",
       " 'PosNrAuftragCSTransport': \"Suche nach einer Nummer, die als Positionsnummer für den CS Transport bezeichnet ist, z.B. '2301231'.\",\n",
       " 'Auftragsart': \"Finde die Art des Auftrags, häufig durch eine Abkürzung wie 'KL' gekennzeichnet.\",\n",
       " 'ReferenznummerAuftrag': \"Suche nach der Referenznummer des Auftrags, die oft durch 'Nr.' gefolgt von einer Nummer/Kombination angegeben wird, z.B. '32231423 / 21.5640'.\",\n",
       " 'RelationAuftrag': 'Finde den Teil des Dokuments, der eine spezifische Relation für den Auftrag angibt. Diese Information kann möglicherweise fehlen.',\n",
       " 'Auftraggeber': \"Suche nach der E-Mail-Adresse des Auftraggebers, oft als Kontaktinformation angegeben, z.B. 'f.baumann@christof-group.com'.\",\n",
       " 'KontaktAuftraggeber': \"Finde den Namen oder die Bezeichnung der kontaktierenden Person für den Auftrag, z.B. 'User 4 (TR)'.\",\n",
       " 'Rechnungsempfaenger': \"Suche nach der E-Mail-Adresse des Rechnungsempfängers, die normalerweise am Dokument angegeben ist, z.B. 'f.baumann@christof-group.com'.\",\n",
       " 'Frankatur': \"Finde die Zahlungsmethode oder Kostenregelung, die gelegentlich als 'Frankatur' gekennzeichnet ist. Diese Information kann fehlen.\",\n",
       " 'Projekt': 'Suche nach einem Projektnamen oder einer Projektnummer. Diese Information ist oft optional.',\n",
       " 'Info': \"Finde Anmerkungen oder Informationen, die im Zusammenhang mit dem Auftrag relevant sind und als 'Info' oder 'Information' bezeichnet werden können.\",\n",
       " 'BeladedatumAb': \"Suche nach dem frühesten Datum, an dem die Beladung beginnt, häufig als Datum mit Uhrzeit, z.B. '15.05.2023 00:00:00'.\",\n",
       " 'Mandant': 'Finde den Mandanten oder die Firma, die den Auftrag erteilt hat. Dieser Eintrag kann optional sein.',\n",
       " 'AbteilungAuftrag': \"Suche nach der Abteilung, die den Auftrag bearbeitet, z.B. 'TR'.\",\n",
       " 'SachbearbeiterAuftrag': \"Finde den Namen des Sachbearbeiters für den Auftrag, oftmals durch einen Benutzernamen angegeben, z.B. 'USER4'.\",\n",
       " 'Station.StationsreihungTour': \"Suche nach der Reihenfolge der Stationen auf der Tour, z.B. '1'.\",\n",
       " 'Station.BeladeStationsreihungTour': \"Finde die spezifische Reihenfolge für die Beladung bei der Tour, z.B. '1'.\",\n",
       " 'Station.ZugehoerigeUP': \"Suche nach der zugehörigen UP-Nummer, z.B. '127061'.\",\n",
       " 'Station.EntladeDispodatum': 'An welchem Datum ist die Entladung geplant?',\n",
       " 'Station.EntladeStationsreihungTour': 'Welche Reihenfolge hat diese Station in der Tour?',\n",
       " 'Station.EntladedatumAb': 'Ab welchem Datum kann die Entladung beginnen?',\n",
       " 'Station.EntladedatumFIX': 'Welches ist das feste Entladedatum?',\n",
       " 'Station.EntladeortLand': 'In welchem Land befindet sich der Entladeort?',\n",
       " 'Station.EntladeortName': 'Wie lautet der Name des Entladeortes?',\n",
       " 'Station.EntladeortOrt': 'In welcher Stadt oder welchem Ort befindet sich die Entladestation?',\n",
       " 'Station.EntladeortPLZ': 'Wie lautet die Postleitzahl des Entladeortes?',\n",
       " 'Station.EntladeortStrasse': 'In welcher Straße befindet sich der Entladeort?',\n",
       " 'Station.BeladedatumAb': \"Suche nach dem Beginn des Beladedatums für diese Station, z.B. '16.05.2023'.\",\n",
       " 'Station.BeladezeitpunktAb': 'Finde den spezifischen Beginn der Beladezeit. Diese Information kann fehlen.',\n",
       " 'Station.BeladedatumBis': 'Suche nach dem Enddatum der Beladung. Diese Information kann fehlen.',\n",
       " 'Station.BeladezeitpunktBis': 'Finde den spezifischen Endzeitpunkt der Beladung. Diese Information kann fehlen.',\n",
       " 'Station.BeladedatumFIX': \"Finde die Markierung für fixes Beladedatum, oft als '0' oder '1' angegeben.\",\n",
       " 'Station.BeladeDispodatum': \"Suche nach dem Datum der Disposition für die Beladung, z.B. '16.05.2023 00:00:00'.\",\n",
       " 'Station.BeladeDispozeit': 'Finde die spezifische Zeit der Disposition für die Beladung. Diese Information kann fehlen.',\n",
       " 'Station.BeladeAufliegerInfo': 'Suche nach Informationen zu Aufliegern oder Anhängern, die für die Beladung verwendet werden. Diese Information kann fehlen.',\n",
       " 'Station.BeladeortName': \"Suche nach dem Namen des Beladeorts, z.B. 'Höfer&Karpf'.\",\n",
       " 'Station.BeladesortStrasse': \"Finde die Straßenadresse des Beladeorts, z.B. 'Mitterdorfer Straße 7a'.\",\n",
       " 'Station.BeladeortLand': 'Suche nach dem Land, in dem der Beladeort liegt. Diese Information kann optional sein.',\n",
       " 'Station.BeladeortPLZ': \"Finde die Postleitzahl des Beladeorts, z.B. '8572'.\",\n",
       " 'Station.BeladeortOrt': \"Suche nach der Stadt oder dem Ort des Beladeorts, z.B. 'Bärnbach'.\",\n",
       " 'Station.KontaktBeladeort': 'Finde Kontaktinformationen für den Beladeort. Diese Information kann fehlen.',\n",
       " 'Station.LadegutAnzahl': 'Finde die Anzahl der Artikel oder Güter, die geladen werden. Diese Information kann fehlen.',\n",
       " 'Station.LadegutEinheit': 'Suche nach der Einheit, in der die Ladegutmenge gemessen wird. Diese Information kann fehlen.',\n",
       " 'Station.LadegutBeschreibung': 'Finde die Beschreibung des Ladeguts. Diese Information kann fehlen.',\n",
       " 'Station.AusstattungFahrzeugBeladung': 'Suche nach speziellen Anforderungen oder Ausstattung am Fahrzeug für die Beladung. Diese Information kann fehlen.',\n",
       " 'Station.BemerkungBeladeort': 'Finde zusätzliche Bemerkungen zum Beladeort. Diese Information kann fehlen.',\n",
       " 'Station.LademitteltauschBeladung': \"Suche nach einer Angabe, ob ein Lademitteltausch bei der Beladung vorgesehen ist, ofte als '0' oder '1' angegeben.\",\n",
       " 'Station.BemerkungLademitteltauschBeladung': 'Finde Bemerkungen zu einem möglichen Lademitteltausch bei der Beladung. Diese Information kann fehlen.',\n",
       " 'Station.LadeNr': 'Suche nach der Lade- oder Auftragsnummer. Diese Information kann fehlen.',\n",
       " 'Station.ADR': 'Finde Hinweise auf ADR-Vorschriften oder gefahrgutrelevante Informationen. Diese Information kann fehlen.',\n",
       " 'Station.Palettenanzahl': 'Suche nach der Anzahl der Paletten, die geladen werden. Diese Information kann fehlen.',\n",
       " 'Station.Lademeter': 'Finde die Anzahl der Lademeter, die benötigt werden. Diese Information kann fehlen.',\n",
       " 'Station.Ladungsvolumen': 'Suche nach dem Volumen der Ladung. Diese Information kann fehlen.',\n",
       " 'Station.Verrechnungsgewicht': 'Finde das Abrechnungsgewicht der Ladung. Diese Information kann fehlen.',\n",
       " 'Station.Ladungsgewicht': 'Suche nach dem Gewicht der Ladung. Diese Information kann fehlen.',\n",
       " 'Station.LadegutDetail.LadegutDetailAnzahl': \"Suche nach der detaillierten Anzahl der Ladegüter, z.B. '2'.\",\n",
       " 'Station.LadegutDetail.LadegutDetailEinheit': \"Finde die spezifische Einheit für die Ladegutdetails, z.B. 'EUR'.\",\n",
       " 'Station.LadegutDetail.LadegutDetailBeschreibung': 'Suche nach einer detaillierten Beschreibung der Ladegüter. Diese Information kann fehlen.',\n",
       " 'Station.LadegutDetail.LadegutDetailLadeNr': 'Finde die spezifische Lader- oder Auftragnummer für die Ladegüter. Diese Information kann fehlen.',\n",
       " 'Station.LadegutDetail.LadegutDetailPalettenanzahl': \"Suche nach der detaillierten Anzahl der Paletten, z.B. '2'.\",\n",
       " 'Station.LadegutDetail.LadegutDetailLademeter': 'Finde die detaillierte Anzahl der Lademeter. Diese Information kann fehlen.',\n",
       " 'Station.LadegutDetail.LadegutDetailLaenge': 'Suche nach der detaillierten Länge der Ladegüter. Diese Information kann fehlen.',\n",
       " 'Station.LadegutDetail.LadegutDetailBreite': 'Finde die detaillierte Breite der Ladegüter. Diese Information kann fehlen.',\n",
       " 'Station.LadegutDetail.LadegutDetailHoehe': 'Suche nach der detaillierten Höhe der Ladegüter. Diese Information kann fehlen.',\n",
       " 'Station.LadegutDetail.LadegutDetailVolumen': 'Finde das detaillierte Volumen der Ladegüter. Diese Information kann fehlen.',\n",
       " 'Station.LadegutDetail.LadegutDetailLadungsgewicht': \"Suche nach dem detaillierten Gewicht der Ladegüter, z.B. '980'.\",\n",
       " 'Station.LadegutDetail.LadegutDetailVerrechnungsgewicht': 'Finde das detaillierte Verrechnungsgewicht der Ladegüter. Diese Information kann fehlen.',\n",
       " 'Station.LadegutDetail.LadegutDetailTemperatur': 'Suche nach der benötigten Temperatur für die Ladegüter. Diese Information kann fehlen.',\n",
       " 'Station.LadegutDetail.LadegutDetailWarenwert': 'Finde den detaillierten Warenwert der Ladegüter. Diese Information kann fehlen.',\n",
       " 'Station.LadegutDetail.LadegutDetailADR': 'Suche nach detaillierten ADR-Informationen der Ladegüter. Diese Information kann fehlen.',\n",
       " 'Tour.Fahrzeug': 'Finde die Informationen über das Fahrzeug, das die Tour ausführt. Diese Information kann fehlen.',\n",
       " 'Tour.Auflieger': 'Suche nach Informationen über den Auflieger oder Anhänger. Diese Information kann fehlen.',\n",
       " 'Tour.FahrzeugKennzeichen': 'Finde das Kennzeichen des Fahrzeugs. Diese Information kann fehlen.',\n",
       " 'Tour.AufliegerKennzeichen': 'Suche nach dem Kennzeichen des Aufliegers. Diese Information kann fehlen.',\n",
       " 'Tour.Fahrer1': 'Finde den Namen oder die ID des ersten Fahrers. Diese Information kann fehlen.',\n",
       " 'Tour.Fahrer2': 'Suche nach dem Namen oder der ID des zweiten Fahrers. Diese Information kann fehlen.',\n",
       " 'Tour.BezeichnungTour': \"Finde die Bezeichnung der Tour, oft in Klammern angegeben, z.B. '(1B/1E)'.\",\n",
       " 'Tour.ReferenznummerTour': 'Suche nach der spezifischen Referenznummer für die Tour. Diese Information kann fehlen.',\n",
       " 'Tour.Mandant': \"Finde die spezifische Mandantennummer, z.B. '01A'.\",\n",
       " 'Tour.AbteilungTour': \"Suche nach der Abteilung, die die Tour durchführt, z.B. 'TR'.\",\n",
       " 'Tour.SachbearbeiterTour': \"Finde den Sachbearbeiter für die Tour, z.B. 'USER4'.\",\n",
       " 'Tour.RelationTour': 'Suche nach spezifischen Relationen oder Verbindungen für die Tour. Diese Information kann fehlen.',\n",
       " 'VerrechnungAuftrag.VerrechnungAuftragMenge': \"Finde die Anzahl der abgerechneten Einheiten, z.B. '1'.\",\n",
       " 'VerrechnungAuftrag.VerrechnungAuftragBezeichnung1': \"Suche nach der Bezeichnung der Abrechnungseinheit, z.B. 'Frachtpauschale'.\",\n",
       " 'VerrechnungAuftrag.VerrechnungAuftragArtikel': \"Finde das spezifische Abrechnungsartikelkürzel, z.B. 'FP'.\",\n",
       " 'VerrechnungAuftrag.VerrechnungAuftragGesamtpreis': \"Suche nach dem Gesamtpreis der Abrechnung, z.B. '70'.\",\n",
       " 'VerrechnungAuftrag.VerrechnungAuftragWaehrung': \"Finde die Währung des Gesamtpreises, z.B. 'EUR'.\"}"
      ]
     },
     "execution_count": 3,
     "metadata": {},
     "output_type": "execute_result"
    }
   ],
   "source": [
    "prompts = []\n",
    "with open('elements.json', 'r', encoding='utf-8') as f:\n",
    "    prompts = flatten_dict(json.load(f))\n",
    "prompts"
   ]
  },
  {
   "cell_type": "code",
   "execution_count": 4,
   "id": "33219cc2-d814-4214-b53c-00b1626ac13d",
   "metadata": {},
   "outputs": [],
   "source": [
    "flattened_prompt = \"\\n\".join([f\"{k}: {v}\" for k,v in prompts.items()])"
   ]
  },
  {
   "cell_type": "markdown",
   "id": "89f19bf6-465c-4b2e-b539-a2021450af85",
   "metadata": {},
   "source": [
    "# Contact Antropic"
   ]
  },
  {
   "cell_type": "code",
   "execution_count": 5,
   "id": "5e1ba66f-7f32-483b-82b8-a537c90e0130",
   "metadata": {},
   "outputs": [],
   "source": [
    "def pack_file(file_path, file_type, mime_type):\n",
    "    with open(file_path, \"rb\") as pdf_file:\n",
    "        file_contents = pdf_file.read()\n",
    "        return {\n",
    "            \"type\": \"document\",\n",
    "            \"source\": {\n",
    "              \"type\": \"base64\",\n",
    "              \"media_type\": mime_type,\n",
    "              \"data\": base64.b64encode(file_contents).decode(\"utf-8\"),\n",
    "            }\n",
    "        }\n",
    "\n",
    "def pack_pdf(pdf_file):\n",
    "    return pack_file(pdf_file, \"document\", \"application/pdf\")\n",
    "\n",
    "def pack_png(png_file):\n",
    "    return pack_file(png_file, \"image\", \"image/png\")\n",
    "\n",
    "\n",
    "def pack_text(text):\n",
    "    return {\n",
    "        \"type\": \"text\",\n",
    "        \"text\": text\n",
    "    }"
   ]
  },
  {
   "cell_type": "code",
   "execution_count": 6,
   "id": "5dc73a2b-b4b2-4eef-a337-a67bde08ec6d",
   "metadata": {},
   "outputs": [],
   "source": [
    "ANTHROPIC_API_KEY=gpt_api_key=open('.anthropic_key', 'r').read().replace('\\n','')"
   ]
  },
  {
   "cell_type": "code",
   "execution_count": 22,
   "id": "63e54135-f753-4562-a4a7-1805e32bd4ef",
   "metadata": {},
   "outputs": [],
   "source": [
    "# Define the API endpoint and headers\n",
    "url = \"https://api.anthropic.com/v1/messages\"\n",
    "headers = {\n",
    "    \"content-type\": \"application/json\",\n",
    "    \"x-api-key\": ANTHROPIC_API_KEY,\n",
    "    \"anthropic-version\": \"2023-06-01\",\n",
    "}"
   ]
  },
  {
   "cell_type": "code",
   "execution_count": 38,
   "id": "234b2703-0955-414d-ac94-952c8822162f",
   "metadata": {},
   "outputs": [],
   "source": [
    "def call_anthropic(messages):\n",
    "    data = {\n",
    "        \"model\": \"claude-sonnet-4-0\",\n",
    "        \"max_tokens\": 8192,\n",
    "        \"temperature\": 0,\n",
    "        \"messages\": messages,\n",
    "    }\n",
    "    response = requests.post(url, headers=headers, json=data)\n",
    "    if response.status_code != 200:\n",
    "        raise Exception(response.text)\n",
    "    content = response.json()['content']\n",
    "    print(\"LLM Usage:\", json.dumps(response.json()['usage']))\n",
    "    #data['messages'].append({\"role\":\"assistant\", \"content\":content})\n",
    "    return content"
   ]
  },
  {
   "cell_type": "markdown",
   "id": "67d14fa8-9a9b-4567-9fda-b1d0bef086ef",
   "metadata": {},
   "source": [
    "# Full extraction"
   ]
  },
  {
   "cell_type": "code",
   "execution_count": 39,
   "id": "21bd4ee7-3241-4fab-8ce2-422d77f12f56",
   "metadata": {},
   "outputs": [
    {
     "data": {
      "text/plain": [
       "['Auftrag Scheucher1762.pdf',\n",
       " 'Auftrag Soprema3.pdf',\n",
       " 'Auftrag Scheucher4053.pdf',\n",
       " 'Auftrag Soprema1.pdf',\n",
       " 'Auftrag Scheucher5000.pdf',\n",
       " 'Auftrag Scheucher3063.pdf',\n",
       " 'Auftrag ACE1.pdf',\n",
       " 'Auftrag Haberkorn21.pdf',\n",
       " 'Auftrag ACE2.pdf',\n",
       " 'Auftrag Haberkorn22.pdf',\n",
       " 'Auftrag NUN5.pdf',\n",
       " 'Auftrag Scheucher1023.pdf',\n",
       " 'Auftrag NUN2.pdf',\n",
       " 'Auftrag NUN3.pdf',\n",
       " 'Auftrag NUN1.pdf']"
      ]
     },
     "execution_count": 39,
     "metadata": {},
     "output_type": "execute_result"
    }
   ],
   "source": [
    "input_files=[file for file in os.listdir(\"input\") if re.match(r\".*pdf\", file)]\n",
    "input_files"
   ]
  },
  {
   "cell_type": "code",
   "execution_count": 40,
   "id": "b6525df8-cca6-46bd-be98-416e5e73e0b6",
   "metadata": {},
   "outputs": [],
   "source": [
    "def extract_json(text):\n",
    "    text = re.sub(\"^[^{]*\",\"\", text)\n",
    "    text = re.sub(\"[^}]*$\",\"\", text)\n",
    "    return json.loads(text)"
   ]
  },
  {
   "cell_type": "code",
   "execution_count": 41,
   "id": "04eda764-ed90-4391-bf1e-257d34efaa2a",
   "metadata": {},
   "outputs": [],
   "source": [
    "def process_file(input_file):\n",
    "    messages_content = [\n",
    "        {\n",
    "            \"role\": \"user\",\n",
    "            \"content\": [\n",
    "                {\n",
    "                    \"type\": \"text\",\n",
    "                    \"text\": \"Du bist ein OCR system zum Erkennen strukturierter Daten in Dokumenten. Du erkennst \"\n",
    "                            \"Aufträge für die Firma ant-sfer Speditions GmbH. antsfer.com ist also der Auftragnehmer.\"\n",
    "                            \" Der Absender des Auftrages ist der Auftraggeber, niemals ans-fer selber. Die Aufträge kommen als \"\n",
    "                            \"Dokumente vom Kunden und sollen in das CRM von ant-sfer Speditions GmbH eingepflegt \"\n",
    "                            \"werden. Die Aufträge können manuell überarbeitet sein: Durchgestrichene Absätze \"\n",
    "                            \"bitte nicht erkennen.\"\n",
    "                }, {\n",
    "                    \"type\": \"text\",\n",
    "                    \"text\": \"Gib alle Längenangaben in cm an, außer wenn im Namen des Feldes explizit meter steht. \"\n",
    "                            \"Zahlen sollen mit dem deutschen Komma formatiert werden. \"\n",
    "                            \"Falls nur eine Entladestation angegeben ist, dann soll die Beladestation mit den Daten des Auftaggebers gefüllt werden.\"\n",
    "                }\n",
    "            ]\n",
    "        },\n",
    "        {\n",
    "            \"role\": \"user\",\n",
    "            \"content\": [\n",
    "                pack_text(f\"Erkenne die Daten in den Bildern. Gib Deinen Output als JSON aus und fülle die \"\n",
    "                            f\"folgenden Elemente mit Werten: \\n\"\n",
    "                            f\"Wenn Du einen wert nicht finden \"\n",
    "                            f\"kannst, liefere \\\"\\\" als Wert zurück.\"),\n",
    "                pack_text(flattened_prompt),\n",
    "                pack_pdf(input_file)\n",
    "            ]\n",
    "        }\n",
    "    ]\n",
    "    try:\n",
    "        response = call_anthropic(messages_content)\n",
    "        as_json= extract_json(response[0]['text'])\n",
    "        as_json= flatten_dict(as_json)\n",
    "        return as_json\n",
    "    except Exception as e:\n",
    "        raise Exception(f\"Error processing {input_file}\") from e "
   ]
  },
  {
   "cell_type": "code",
   "execution_count": 42,
   "id": "d128b715-fb2f-4a92-8871-8359f27fbfd9",
   "metadata": {},
   "outputs": [],
   "source": [
    "input_file= \"input/Auftrag Scheucher1762.pdf\"\n",
    "messages_content = [\n",
    "    {\n",
    "        \"role\": \"user\",\n",
    "        \"content\": [\n",
    "            {\n",
    "                \"type\": \"text\",\n",
    "                \"text\": \"Du bist ein OCR system zum Erkennen strukturierter Daten in Dokumenten. Du erkennst \"\n",
    "                        \"Aufträge für die Firma ant-sfer Speditions GmbH. antsfer.com ist also der Auftragnehmer.\"\n",
    "                        \" Der Absender des Auftrages ist der Auftraggeber, niemals ans-fer selber. Die Aufträge kommen als \"\n",
    "                        \"Dokumente vom Kunden und sollen in das CRM von ant-sfer Speditions GmbH eingepflegt \"\n",
    "                        \"werden. Die Aufträge können manuell überarbeitet sein: Durchgestrichene Absätze \"\n",
    "                        \"bitte nicht erkennen.\"\n",
    "            }, {\n",
    "                \"type\": \"text\",\n",
    "                \"text\": \"Gib alle Längenangaben in cm an, außer wenn im Namen des Feldes explizit meter steht. \"\n",
    "                        \"Zahlen sollen mit dem deutschen Komma formatiert werden. \"\n",
    "                        \"Falls nur eine Entladestation angegeben ist, dann soll die Beladestation mit den Daten des Auftaggebers gefüllt werden.\"\n",
    "            }\n",
    "        ]\n",
    "    },\n",
    "    {\n",
    "        \"role\": \"user\",\n",
    "        \"content\": [\n",
    "            pack_text(f\"Erkenne die Daten in den Bildern. Gib Deinen Output als JSON aus und fülle die \"\n",
    "                        f\"folgenden Elemente mit Werten: \\n\"\n",
    "                        f\"Wenn Du einen wert nicht finden \"\n",
    "                        f\"kannst, liefere \\\"\\\" als Wert zurück.\"),\n",
    "            pack_text(flattened_prompt),\n",
    "            pack_pdf(input_file)\n",
    "        ]\n",
    "    }\n",
    "]"
   ]
  },
  {
   "cell_type": "code",
   "execution_count": 43,
   "id": "a0b986e3-bdb1-450c-bdad-e51ae1418e54",
   "metadata": {},
   "outputs": [
    {
     "name": "stdout",
     "output_type": "stream",
     "text": [
      "LLM Usage: {\"input_tokens\": 6100, \"cache_creation_input_tokens\": 0, \"cache_read_input_tokens\": 0, \"output_tokens\": 1255, \"service_tier\": \"standard\"}\n",
      "LLM Usage: {\"input_tokens\": 10084, \"cache_creation_input_tokens\": 0, \"cache_read_input_tokens\": 0, \"output_tokens\": 1270, \"service_tier\": \"standard\"}\n",
      "LLM Usage: {\"input_tokens\": 6092, \"cache_creation_input_tokens\": 0, \"cache_read_input_tokens\": 0, \"output_tokens\": 1258, \"service_tier\": \"standard\"}\n",
      "LLM Usage: {\"input_tokens\": 5879, \"cache_creation_input_tokens\": 0, \"cache_read_input_tokens\": 0, \"output_tokens\": 1343, \"service_tier\": \"standard\"}\n",
      "LLM Usage: {\"input_tokens\": 6098, \"cache_creation_input_tokens\": 0, \"cache_read_input_tokens\": 0, \"output_tokens\": 1253, \"service_tier\": \"standard\"}\n",
      "LLM Usage: {\"input_tokens\": 6095, \"cache_creation_input_tokens\": 0, \"cache_read_input_tokens\": 0, \"output_tokens\": 1250, \"service_tier\": \"standard\"}\n",
      "LLM Usage: {\"input_tokens\": 10084, \"cache_creation_input_tokens\": 0, \"cache_read_input_tokens\": 0, \"output_tokens\": 1299, \"service_tier\": \"standard\"}\n",
      "LLM Usage: {\"input_tokens\": 5660, \"cache_creation_input_tokens\": 0, \"cache_read_input_tokens\": 0, \"output_tokens\": 1303, \"service_tier\": \"standard\"}\n",
      "LLM Usage: {\"input_tokens\": 11934, \"cache_creation_input_tokens\": 0, \"cache_read_input_tokens\": 0, \"output_tokens\": 1307, \"service_tier\": \"standard\"}\n",
      "LLM Usage: {\"input_tokens\": 5659, \"cache_creation_input_tokens\": 0, \"cache_read_input_tokens\": 0, \"output_tokens\": 1299, \"service_tier\": \"standard\"}\n",
      "LLM Usage: {\"input_tokens\": 5960, \"cache_creation_input_tokens\": 0, \"cache_read_input_tokens\": 0, \"output_tokens\": 1333, \"service_tier\": \"standard\"}\n",
      "LLM Usage: {\"input_tokens\": 6095, \"cache_creation_input_tokens\": 0, \"cache_read_input_tokens\": 0, \"output_tokens\": 1261, \"service_tier\": \"standard\"}\n",
      "LLM Usage: {\"input_tokens\": 6017, \"cache_creation_input_tokens\": 0, \"cache_read_input_tokens\": 0, \"output_tokens\": 1396, \"service_tier\": \"standard\"}\n",
      "LLM Usage: {\"input_tokens\": 6034, \"cache_creation_input_tokens\": 0, \"cache_read_input_tokens\": 0, \"output_tokens\": 1313, \"service_tier\": \"standard\"}\n",
      "LLM Usage: {\"input_tokens\": 6938, \"cache_creation_input_tokens\": 0, \"cache_read_input_tokens\": 0, \"output_tokens\": 1413, \"service_tier\": \"standard\"}\n"
     ]
    }
   ],
   "source": [
    "results = [process_file(\"input/\" + input_file) for input_file in input_files]"
   ]
  },
  {
   "cell_type": "code",
   "execution_count": 46,
   "id": "25990e05-af27-437c-8509-422f11704b1c",
   "metadata": {},
   "outputs": [],
   "source": [
    "for file_name, result in zip(input_files, results):\n",
    "    with open(\"output/\"+ re.sub(r\"pdf$\", \"json\", file_name), 'w') as file:\n",
    "        json.dump(result, file)"
   ]
  }
 ],
 "metadata": {
  "kernelspec": {
   "display_name": "venv_3.13",
   "language": "python",
   "name": "venv_3.13"
  },
  "language_info": {
   "codemirror_mode": {
    "name": "ipython",
    "version": 3
   },
   "file_extension": ".py",
   "mimetype": "text/x-python",
   "name": "python",
   "nbconvert_exporter": "python",
   "pygments_lexer": "ipython3",
   "version": "3.13.3"
  }
 },
 "nbformat": 4,
 "nbformat_minor": 5
}
